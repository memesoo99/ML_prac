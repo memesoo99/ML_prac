{
 "cells": [
  {
   "cell_type": "code",
   "execution_count": 3,
   "metadata": {},
   "outputs": [
    {
     "data": {
      "text/html": [
       "<div>\n",
       "<style scoped>\n",
       "    .dataframe tbody tr th:only-of-type {\n",
       "        vertical-align: middle;\n",
       "    }\n",
       "\n",
       "    .dataframe tbody tr th {\n",
       "        vertical-align: top;\n",
       "    }\n",
       "\n",
       "    .dataframe thead th {\n",
       "        text-align: right;\n",
       "    }\n",
       "</style>\n",
       "<table border=\"1\" class=\"dataframe\">\n",
       "  <thead>\n",
       "    <tr style=\"text-align: right;\">\n",
       "      <th></th>\n",
       "      <th>sepal_length</th>\n",
       "      <th>sepal_width</th>\n",
       "      <th>petal_length</th>\n",
       "      <th>petal_width</th>\n",
       "    </tr>\n",
       "  </thead>\n",
       "  <tbody>\n",
       "    <tr>\n",
       "      <th>0</th>\n",
       "      <td>5.1</td>\n",
       "      <td>3.5</td>\n",
       "      <td>1.4</td>\n",
       "      <td>0.2</td>\n",
       "    </tr>\n",
       "    <tr>\n",
       "      <th>1</th>\n",
       "      <td>4.9</td>\n",
       "      <td>3.0</td>\n",
       "      <td>1.4</td>\n",
       "      <td>0.2</td>\n",
       "    </tr>\n",
       "    <tr>\n",
       "      <th>2</th>\n",
       "      <td>4.7</td>\n",
       "      <td>3.2</td>\n",
       "      <td>1.3</td>\n",
       "      <td>0.2</td>\n",
       "    </tr>\n",
       "  </tbody>\n",
       "</table>\n",
       "</div>"
      ],
      "text/plain": [
       "   sepal_length  sepal_width  petal_length  petal_width\n",
       "0           5.1          3.5           1.4          0.2\n",
       "1           4.9          3.0           1.4          0.2\n",
       "2           4.7          3.2           1.3          0.2"
      ]
     },
     "execution_count": 3,
     "metadata": {},
     "output_type": "execute_result"
    }
   ],
   "source": [
    "from sklearn.datasets import load_iris\n",
    "from sklearn.cluster import KMeans\n",
    "import matplotlib.pyplot as plt\n",
    "import numpy as np\n",
    "import pandas as pd\n",
    "%matplotlib inline\n",
    "\n",
    "iris = load_iris()\n",
    "\n",
    "# 보다 편리한 데이터 Handling을 위해 DataFrame으로 변환\n",
    "irisDF = pd.DataFrame(data=iris.data, columns=['sepal_length','sepal_width','petal_length','petal_width'])\n",
    "irisDF.head(3)"
   ]
  },
  {
   "cell_type": "code",
   "execution_count": 4,
   "metadata": {},
   "outputs": [
    {
     "data": {
      "text/plain": [
       "KMeans(max_iter=30, n_clusters=3, random_state=1)"
      ]
     },
     "execution_count": 4,
     "metadata": {},
     "output_type": "execute_result"
    }
   ],
   "source": [
    "kmeans = KMeans(n_clusters = 3, init = 'k-means++', max_iter=30, random_state=1)\n",
    "kmeans.fit(irisDF)"
   ]
  },
  {
   "cell_type": "code",
   "execution_count": 5,
   "metadata": {},
   "outputs": [
    {
     "name": "stdout",
     "output_type": "stream",
     "text": [
      "[1 1 1 1 1 1 1 1 1 1 1 1 1 1 1 1 1 1 1 1 1 1 1 1 1 1 1 1 1 1 1 1 1 1 1 1 1\n",
      " 1 1 1 1 1 1 1 1 1 1 1 1 1 0 0 2 0 0 0 0 0 0 0 0 0 0 0 0 0 0 0 0 0 0 0 0 0\n",
      " 0 0 0 2 0 0 0 0 0 0 0 0 0 0 0 0 0 0 0 0 0 0 0 0 0 0 2 0 2 2 2 2 0 2 2 2 2\n",
      " 2 2 0 0 2 2 2 2 0 2 0 2 0 2 2 0 0 2 2 2 2 2 0 2 2 2 2 0 2 2 2 0 2 2 2 0 2\n",
      " 2 0]\n",
      "[1 1 1 1 1 1 1 1 1 1 1 1 1 1 1 1 1 1 1 1 1 1 1 1 1 1 1 1 1 1 1 1 1 1 1 1 1\n",
      " 1 1 1 1 1 1 1 1 1 1 1 1 1 0 0 2 0 0 0 0 0 0 0 0 0 0 0 0 0 0 0 0 0 0 0 0 0\n",
      " 0 0 0 2 0 0 0 0 0 0 0 0 0 0 0 0 0 0 0 0 0 0 0 0 0 0 2 0 2 2 2 2 0 2 2 2 2\n",
      " 2 2 0 0 2 2 2 2 0 2 0 2 0 2 2 0 0 2 2 2 2 2 0 2 2 2 2 0 2 2 2 0 2 2 2 0 2\n",
      " 2 0]\n"
     ]
    }
   ],
   "source": [
    "print(kmeans.labels_)\n",
    "print(kmeans.predict(irisDF))"
   ]
  },
  {
   "cell_type": "code",
   "execution_count": 6,
   "metadata": {},
   "outputs": [],
   "source": [
    "irisDF['cluster'] = kmeans.labels_\n",
    "irisDF['target']=iris.target"
   ]
  },
  {
   "cell_type": "code",
   "execution_count": 7,
   "metadata": {},
   "outputs": [
    {
     "name": "stdout",
     "output_type": "stream",
     "text": [
      "target  cluster\n",
      "0       1          50\n",
      "1       0          48\n",
      "        2           2\n",
      "2       0          14\n",
      "        2          36\n",
      "Name: sepal_length, dtype: int64\n"
     ]
    }
   ],
   "source": [
    "iris_result = irisDF.groupby(['target','cluster'])['sepal_length'].count()\n",
    "print(iris_result)"
   ]
  },
  {
   "cell_type": "code",
   "execution_count": 11,
   "metadata": {},
   "outputs": [],
   "source": [
    "from sklearn.decomposition import PCA\n",
    "\n",
    "pca = PCA(n_components = 2)\n",
    "pca_transformed = pca.fit_transform(iris.data)\n",
    "\n",
    "irisDF['pca_x'] = pca_transformed[:,0]\n",
    "irisDF['pca_y'] = pca_transformed[:,1]"
   ]
  },
  {
   "cell_type": "code",
   "execution_count": 12,
   "metadata": {},
   "outputs": [
    {
     "name": "stdout",
     "output_type": "stream",
     "text": [
      "(150, 2)\n"
     ]
    }
   ],
   "source": [
    "print(pca_transformed.shape)"
   ]
  },
  {
   "cell_type": "code",
   "execution_count": 13,
   "metadata": {},
   "outputs": [
    {
     "data": {
      "text/html": [
       "<div>\n",
       "<style scoped>\n",
       "    .dataframe tbody tr th:only-of-type {\n",
       "        vertical-align: middle;\n",
       "    }\n",
       "\n",
       "    .dataframe tbody tr th {\n",
       "        vertical-align: top;\n",
       "    }\n",
       "\n",
       "    .dataframe thead th {\n",
       "        text-align: right;\n",
       "    }\n",
       "</style>\n",
       "<table border=\"1\" class=\"dataframe\">\n",
       "  <thead>\n",
       "    <tr style=\"text-align: right;\">\n",
       "      <th></th>\n",
       "      <th>sepal_length</th>\n",
       "      <th>sepal_width</th>\n",
       "      <th>petal_length</th>\n",
       "      <th>petal_width</th>\n",
       "      <th>cluster</th>\n",
       "      <th>target</th>\n",
       "      <th>pca_x</th>\n",
       "      <th>pca_y</th>\n",
       "    </tr>\n",
       "  </thead>\n",
       "  <tbody>\n",
       "    <tr>\n",
       "      <th>0</th>\n",
       "      <td>5.1</td>\n",
       "      <td>3.5</td>\n",
       "      <td>1.4</td>\n",
       "      <td>0.2</td>\n",
       "      <td>1</td>\n",
       "      <td>0</td>\n",
       "      <td>-2.684126</td>\n",
       "      <td>0.319397</td>\n",
       "    </tr>\n",
       "    <tr>\n",
       "      <th>1</th>\n",
       "      <td>4.9</td>\n",
       "      <td>3.0</td>\n",
       "      <td>1.4</td>\n",
       "      <td>0.2</td>\n",
       "      <td>1</td>\n",
       "      <td>0</td>\n",
       "      <td>-2.714142</td>\n",
       "      <td>-0.177001</td>\n",
       "    </tr>\n",
       "    <tr>\n",
       "      <th>2</th>\n",
       "      <td>4.7</td>\n",
       "      <td>3.2</td>\n",
       "      <td>1.3</td>\n",
       "      <td>0.2</td>\n",
       "      <td>1</td>\n",
       "      <td>0</td>\n",
       "      <td>-2.888991</td>\n",
       "      <td>-0.144949</td>\n",
       "    </tr>\n",
       "    <tr>\n",
       "      <th>3</th>\n",
       "      <td>4.6</td>\n",
       "      <td>3.1</td>\n",
       "      <td>1.5</td>\n",
       "      <td>0.2</td>\n",
       "      <td>1</td>\n",
       "      <td>0</td>\n",
       "      <td>-2.745343</td>\n",
       "      <td>-0.318299</td>\n",
       "    </tr>\n",
       "    <tr>\n",
       "      <th>4</th>\n",
       "      <td>5.0</td>\n",
       "      <td>3.6</td>\n",
       "      <td>1.4</td>\n",
       "      <td>0.2</td>\n",
       "      <td>1</td>\n",
       "      <td>0</td>\n",
       "      <td>-2.728717</td>\n",
       "      <td>0.326755</td>\n",
       "    </tr>\n",
       "  </tbody>\n",
       "</table>\n",
       "</div>"
      ],
      "text/plain": [
       "   sepal_length  sepal_width  petal_length  petal_width  cluster  target  \\\n",
       "0           5.1          3.5           1.4          0.2        1       0   \n",
       "1           4.9          3.0           1.4          0.2        1       0   \n",
       "2           4.7          3.2           1.3          0.2        1       0   \n",
       "3           4.6          3.1           1.5          0.2        1       0   \n",
       "4           5.0          3.6           1.4          0.2        1       0   \n",
       "\n",
       "      pca_x     pca_y  \n",
       "0 -2.684126  0.319397  \n",
       "1 -2.714142 -0.177001  \n",
       "2 -2.888991 -0.144949  \n",
       "3 -2.745343 -0.318299  \n",
       "4 -2.728717  0.326755  "
      ]
     },
     "execution_count": 13,
     "metadata": {},
     "output_type": "execute_result"
    }
   ],
   "source": [
    "irisDF.head(5)"
   ]
  },
  {
   "cell_type": "code",
   "execution_count": 14,
   "metadata": {},
   "outputs": [
    {
     "data": {
      "text/plain": [
       "<matplotlib.collections.PathCollection at 0x7fbf8817a8b0>"
      ]
     },
     "execution_count": 14,
     "metadata": {},
     "output_type": "execute_result"
    },
    {
     "data": {
      "image/png": "[encoded data removed]",
      "text/plain": [
       "<Figure size 432x288 with 1 Axes>"
      ]
     },
     "metadata": {
      "needs_background": "light"
     },
     "output_type": "display_data"
    }
   ],
   "source": [
    "plt.scatter(x=irisDF.loc[:, 'pca_x'], y=irisDF.loc[:, 'pca_y'], c=irisDF['cluster']) "
   ]
  },
  {
   "cell_type": "code",
   "execution_count": 15,
   "metadata": {},
   "outputs": [
    {
     "data": {
      "image/png": "[encoded data removed]",
      "text/plain": [
       "<Figure size 432x288 with 1 Axes>"
      ]
     },
     "metadata": {
      "needs_background": "light"
     },
     "output_type": "display_data"
    }
   ],
   "source": [
    "# cluster 값이 0, 1, 2 인 경우마다 별도의 Index로 추출\n",
    "marker0_ind = irisDF[irisDF['cluster']==0].index\n",
    "marker1_ind = irisDF[irisDF['cluster']==1].index\n",
    "marker2_ind = irisDF[irisDF['cluster']==2].index\n",
    "\n",
    "# cluster값 0, 1, 2에 해당하는 Index로 각 cluster 레벨의 pca_x, pca_y 값 추출. o, s, ^ 로 marker 표시\n",
    "plt.scatter(x=irisDF.loc[marker0_ind,'pca_x'], y=irisDF.loc[marker0_ind,'pca_y'], marker='o') \n",
    "plt.scatter(x=irisDF.loc[marker1_ind,'pca_x'], y=irisDF.loc[marker1_ind,'pca_y'], marker='s')\n",
    "plt.scatter(x=irisDF.loc[marker2_ind,'pca_x'], y=irisDF.loc[marker2_ind,'pca_y'], marker='^')\n",
    "\n",
    "plt.xlabel('PCA 1')\n",
    "plt.ylabel('PCA 2')\n",
    "plt.title('3 Clusters Visualization by 2 PCA Components')\n",
    "plt.show()\n"
   ]
  },
  {
   "cell_type": "code",
   "execution_count": 16,
   "metadata": {},
   "outputs": [
    {
     "name": "stdout",
     "output_type": "stream",
     "text": [
      "(200, 2) (200,)\n"
     ]
    }
   ],
   "source": [
    "import numpy as np\n",
    "import pandas as pd\n",
    "from sklearn.cluster import KMeans\n",
    "from sklearn.datasets import make_blobs\n",
    "\n",
    "import matplotlib.pyplot as plt\n",
    "%matplotlib inline\n",
    "\n",
    "X,y = make_blobs(n_samples=200, n_features=2, centers=3, cluster_std = 0.8, random_state = 1)\n",
    "print(X.shape, y.shape)"
   ]
  },
  {
   "cell_type": "code",
   "execution_count": 17,
   "metadata": {},
   "outputs": [
    {
     "name": "stdout",
     "output_type": "stream",
     "text": [
      "[[ -7.7290197   -8.85769018]\n",
      " [-10.943567    -4.48595216]\n",
      " [ -7.51087796  -7.40189311]\n",
      " [ -9.81171686  -3.40730742]\n",
      " [ -5.59710808  -7.70172182]\n",
      " [ -8.54928457  -4.99793009]\n",
      " [ -1.43109005   5.1146028 ]\n",
      " [ -8.56341097  -7.41673601]\n",
      " [ -2.26307826   5.40878439]\n",
      " [ -9.70464689  -4.78902005]\n",
      " [ -7.19944126  -8.29257238]\n",
      " [-11.31828952  -4.66579301]\n",
      " [ -9.59516465  -2.91876784]\n",
      " [ -9.77318044  -4.01183871]\n",
      " [ -7.17366404  -8.79104393]\n",
      " [-12.2321805   -2.4033255 ]\n",
      " [ -9.77651306  -4.53996583]\n",
      " [ -7.7667074   -8.84745788]\n",
      " [ -1.53153025   5.10742501]\n",
      " [ -9.10620612  -4.4225677 ]\n",
      " [ -5.90373878  -8.64765758]\n",
      " [ -7.86249802  -8.23866329]\n",
      " [-10.2589121   -5.02748918]\n",
      " [ -0.75254435   3.52657685]\n",
      " [ -1.02531441   3.90766529]\n",
      " [ -2.55340818   4.59402243]\n",
      " [ -1.41942365   4.12468999]\n",
      " [-10.41138807  -4.75097001]\n",
      " [ -7.15767033  -8.29359528]\n",
      " [ -6.39607841  -6.91854082]\n",
      " [ -6.54121806  -8.19417886]\n",
      " [ -7.62955459  -7.19907925]\n",
      " [ -9.47047267  -5.25529922]\n",
      " [-10.27370227  -4.13802034]\n",
      " [ -7.39419351  -7.13040564]\n",
      " [ -9.06944165  -3.65775437]\n",
      " [ -9.45365663  -4.20918983]\n",
      " [ -9.58125143  -4.86882166]\n",
      " [ -6.6959509   -9.09401424]\n",
      " [ -9.80357695  -3.7918844 ]\n",
      " [ -2.64360641   4.84691987]\n",
      " [ -2.81485095   4.00291718]\n",
      " [ -8.11010944  -8.09212372]\n",
      " [ -1.40432863   4.20699357]\n",
      " [ -7.69041153  -8.50323529]\n",
      " [-10.97350802  -1.99385363]\n",
      " [ -2.08209731   3.54811497]\n",
      " [ -4.64019649  -7.4935604 ]\n",
      " [ -9.54750363  -3.76075887]\n",
      " [ -2.15556058   4.9649155 ]\n",
      " [ -9.36169163  -4.2528992 ]\n",
      " [ -7.04739191  -8.52816716]\n",
      " [ -0.76242574   4.7336103 ]\n",
      " [ -0.3574393    4.67689923]\n",
      " [ -8.93254681  -4.18319484]\n",
      " [ -0.26371049   3.79752435]\n",
      " [ -1.50682752   6.08669398]\n",
      " [-10.44755685  -2.38944609]\n",
      " [ -9.79867317  -4.19066147]\n",
      " [ -9.99922569  -5.07064489]\n",
      " [ -7.64535988  -8.84744305]\n",
      " [ -6.73104058  -7.52541158]\n",
      " [ -1.69051631   3.11387199]\n",
      " [ -6.9398711   -8.30540492]\n",
      " [-10.9871952   -3.25267741]\n",
      " [ -7.42387261  -8.69118654]\n",
      " [ -7.05420004  -8.70898298]\n",
      " [ -1.95978787   3.89550554]\n",
      " [-10.89300482  -2.38848542]\n",
      " [ -8.70415282  -3.55115584]\n",
      " [ -1.87387037   4.83077424]\n",
      " [ -9.16665282  -2.20376483]\n",
      " [-10.39628335  -4.20213653]\n",
      " [ -8.75066807  -3.86582639]\n",
      " [ -7.21414538  -8.19868769]\n",
      " [ -7.82922239  -7.68449976]\n",
      " [ -1.91749367   4.09924639]\n",
      " [-11.06327384  -5.3618994 ]\n",
      " [-10.24580592  -5.90121876]\n",
      " [ -7.81201391  -8.57964437]\n",
      " [ -9.96277731  -4.13439994]\n",
      " [ -0.93887515   3.85950758]\n",
      " [ -9.46889627  -2.51962198]\n",
      " [ -8.20612652  -6.73886015]\n",
      " [ -9.64462095  -4.03347273]\n",
      " [ -7.25403175  -7.5709773 ]\n",
      " [ -1.62578891   4.87274204]\n",
      " [ -1.37912312   3.35666314]\n",
      " [ -0.98837317   5.15137153]\n",
      " [ -8.24515272  -5.47043729]\n",
      " [ -6.71434911  -7.25536545]\n",
      " [ -2.75805376   4.65861738]\n",
      " [ -6.5971649   -7.89380871]\n",
      " [ -9.98378498  -4.85096353]\n",
      " [-10.51524585  -3.23215903]\n",
      " [ -6.57049376  -8.30056917]\n",
      " [ -1.26874539   4.3460325 ]\n",
      " [-10.55803131  -4.11606411]\n",
      " [ -5.41225553  -9.33015365]\n",
      " [ -1.67925347   3.78636057]\n",
      " [ -7.25523573  -7.2289978 ]\n",
      " [ -1.56343274   4.90025236]\n",
      " [ -2.61897433   5.09716612]\n",
      " [ -7.62595772  -8.58300652]\n",
      " [ -0.48987356   2.7583773 ]\n",
      " [ -2.54005525   5.32226884]\n",
      " [-10.08607012  -4.4472382 ]\n",
      " [ -0.7004256    4.554615  ]\n",
      " [ -1.32076442   4.46836192]\n",
      " [ -7.05166013  -8.01147793]\n",
      " [ -1.6189137    3.89689335]\n",
      " [ -9.57414024  -3.84318758]\n",
      " [ -8.47398554  -3.06450319]\n",
      " [-10.09408416  -4.93984514]\n",
      " [ -9.60154344  -4.09311108]\n",
      " [ -6.38271893  -8.12494003]\n",
      " [ -9.07003471  -9.84455924]\n",
      " [ -7.88239094  -7.51760551]\n",
      " [ -2.53548938   4.54199582]\n",
      " [ -7.41866561  -7.89440622]\n",
      " [ -7.13248861  -8.39111761]\n",
      " [ -9.76991401  -3.74337459]\n",
      " [-10.14696832  -4.03474525]\n",
      " [ -1.50092013   4.50169679]\n",
      " [ -1.56210289   5.310077  ]\n",
      " [ -7.44518048  -7.77113996]\n",
      " [ -9.5028812   -4.30788609]\n",
      " [ -7.09317652  -6.46474406]\n",
      " [ -1.33676659   4.88135269]\n",
      " [ -7.01628203  -7.9843283 ]\n",
      " [ -1.79750247   3.70420313]\n",
      " [ -0.7542564    5.62234332]\n",
      " [ -6.67101294  -8.69777062]\n",
      " [ -8.217583    -7.16742565]\n",
      " [ -7.26822608  -7.03335295]\n",
      " [ -1.90452312   5.06886958]\n",
      " [ -2.20929807   3.73032536]\n",
      " [ -8.69464316  -9.70729945]\n",
      " [ -9.34895117  -3.11779487]\n",
      " [ -6.65282329 -10.37925568]\n",
      " [ -0.33171816   5.0001252 ]\n",
      " [-10.43433184  -4.11241884]\n",
      " [ -6.98854211  -7.41606805]\n",
      " [ -6.56743938  -8.63307173]\n",
      " [ -7.28816036  -6.85494884]\n",
      " [ -0.9672338    2.56525891]\n",
      " [ -8.61954091  -7.87123261]\n",
      " [ -1.93464285   4.44136735]\n",
      " [ -2.19608973   4.7085409 ]\n",
      " [ -1.80429615   3.92335337]\n",
      " [ -1.81302835   3.6963867 ]\n",
      " [-11.01575951  -3.70251037]\n",
      " [ -6.16615245  -7.90901447]\n",
      " [ -1.47548412   5.01609881]\n",
      " [ -1.06711475   3.64352939]\n",
      " [ -2.25728654   5.76045355]\n",
      " [ -9.30260358  -3.35301924]\n",
      " [ -0.64055516   5.98017127]\n",
      " [ -1.51031079   4.73453119]\n",
      " [ -7.9580582   -8.08848642]\n",
      " [ -6.38225721  -8.48365155]\n",
      " [ -0.98263139   3.71887712]\n",
      " [ -8.4696227   -7.58139643]\n",
      " [ -9.91273432  -5.1738928 ]\n",
      " [ -2.57357446   4.12701569]\n",
      " [-10.31841506  -3.29414405]\n",
      " [ -7.22092806  -7.50891337]\n",
      " [ -8.35677375  -3.48481895]\n",
      " [ -9.20864435  -3.78252143]\n",
      " [ -1.82667529   4.87578842]\n",
      " [ -8.29591678  -8.51154425]\n",
      " [ -1.75787209   3.65787432]\n",
      " [ -1.40705195   2.7887289 ]\n",
      " [ -7.97505194  -4.15225637]\n",
      " [ -3.1459454    5.39542109]\n",
      " [ -7.15287538  -8.14638895]\n",
      " [-10.1068683   -4.0485919 ]\n",
      " [ -2.21288851   4.08908705]\n",
      " [  0.08890042   3.2892928 ]\n",
      " [ -6.45783766  -7.44530105]\n",
      " [ -9.51585708  -3.61712278]\n",
      " [ -6.83874161  -8.81410605]\n",
      " [ -1.83742242   4.24588341]\n",
      " [ -9.35622368  -3.91609471]\n",
      " [ -9.9354556   -3.45864434]\n",
      " [ -6.56801602  -7.38833074]\n",
      " [ -5.95385867  -8.6823035 ]\n",
      " [ -6.25678044  -7.41721376]\n",
      " [ -9.49902276  -4.30131389]\n",
      " [ -2.01726276   5.38609603]\n",
      " [-11.33706915  -3.29332469]\n",
      " [-10.68676559  -3.41357933]\n",
      " [ -1.87253471   4.43258151]\n",
      " [ -5.35461973  -8.7816553 ]\n",
      " [ -8.8716805   -3.85006728]\n",
      " [ -9.89047395  -2.99170466]\n",
      " [ -1.24921605   4.1680156 ]\n",
      " [ -2.19655681   4.39635819]\n",
      " [ -9.65409159  -4.43894727]\n",
      " [ -0.93828733   4.80848534]]\n"
     ]
    }
   ],
   "source": [
    "print(X)"
   ]
  },
  {
   "cell_type": "code",
   "execution_count": 20,
   "metadata": {},
   "outputs": [
    {
     "data": {
      "text/plain": [
       "<matplotlib.collections.PathCollection at 0x7fbfa8a08f40>"
      ]
     },
     "execution_count": 20,
     "metadata": {},
     "output_type": "execute_result"
    },
    {
     "data": {
      "image/png": "[encoded data removed]",
      "text/plain": [
       "<Figure size 432x288 with 1 Axes>"
      ]
     },
     "metadata": {
      "needs_background": "light"
     },
     "output_type": "display_data"
    }
   ],
   "source": [
    "plt.scatter(x=X[:,0], y=X[:,1])"
   ]
  },
  {
   "cell_type": "code",
   "execution_count": 21,
   "metadata": {},
   "outputs": [
    {
     "name": "stdout",
     "output_type": "stream",
     "text": [
      "[0 1 2] [67 67 66]\n"
     ]
    }
   ],
   "source": [
    "unique, counts = np.unique(y, return_counts=True)\n",
    "print(unique,counts)"
   ]
  },
  {
   "cell_type": "markdown",
   "metadata": {},
   "source": [
    "3 cluster made, each cluster has approximately 67 datas"
   ]
  },
  {
   "cell_type": "code",
   "execution_count": 22,
   "metadata": {},
   "outputs": [
    {
     "data": {
      "text/html": [
       "<div>\n",
       "<style scoped>\n",
       "    .dataframe tbody tr th:only-of-type {\n",
       "        vertical-align: middle;\n",
       "    }\n",
       "\n",
       "    .dataframe tbody tr th {\n",
       "        vertical-align: top;\n",
       "    }\n",
       "\n",
       "    .dataframe thead th {\n",
       "        text-align: right;\n",
       "    }\n",
       "</style>\n",
       "<table border=\"1\" class=\"dataframe\">\n",
       "  <thead>\n",
       "    <tr style=\"text-align: right;\">\n",
       "      <th></th>\n",
       "      <th>ftr1</th>\n",
       "      <th>ftr2</th>\n",
       "      <th>target</th>\n",
       "    </tr>\n",
       "  </thead>\n",
       "  <tbody>\n",
       "    <tr>\n",
       "      <th>0</th>\n",
       "      <td>-7.729020</td>\n",
       "      <td>-8.857690</td>\n",
       "      <td>2</td>\n",
       "    </tr>\n",
       "    <tr>\n",
       "      <th>1</th>\n",
       "      <td>-10.943567</td>\n",
       "      <td>-4.485952</td>\n",
       "      <td>1</td>\n",
       "    </tr>\n",
       "    <tr>\n",
       "      <th>2</th>\n",
       "      <td>-7.510878</td>\n",
       "      <td>-7.401893</td>\n",
       "      <td>2</td>\n",
       "    </tr>\n",
       "  </tbody>\n",
       "</table>\n",
       "</div>"
      ],
      "text/plain": [
       "        ftr1      ftr2  target\n",
       "0  -7.729020 -8.857690       2\n",
       "1 -10.943567 -4.485952       1\n",
       "2  -7.510878 -7.401893       2"
      ]
     },
     "execution_count": 22,
     "metadata": {},
     "output_type": "execute_result"
    }
   ],
   "source": [
    "import pandas as pd\n",
    "\n",
    "clusterDF = pd.DataFrame(data=X, columns=['ftr1', 'ftr2'])\n",
    "clusterDF['target'] = y\n",
    "clusterDF.head(3)"
   ]
  },
  {
   "cell_type": "code",
   "execution_count": 23,
   "metadata": {},
   "outputs": [
    {
     "data": {
      "image/png": "[encoded data removed]",
      "text/plain": [
       "<Figure size 432x288 with 1 Axes>"
      ]
     },
     "metadata": {
      "needs_background": "light"
     },
     "output_type": "display_data"
    }
   ],
   "source": [
    "\n",
    "target_list = np.unique(y)\n",
    "# 각 target별 scatter plot 의 marker 값들. \n",
    "markers=['o', 's', '^', 'P','D','H','x']\n",
    "# 3개의 cluster 영역으로 구분한 데이터 셋을 생성했으므로 target_list는 [0,1,2]\n",
    "# target==0, target==1, target==2 로 scatter plot을 marker별로 생성. \n",
    "for target in target_list:\n",
    "    target_cluster = clusterDF[clusterDF['target']==target]\n",
    "    plt.scatter(x=target_cluster['ftr1'], y=target_cluster['ftr2'], edgecolor='k', marker=markers[target] )\n",
    "plt.show()"
   ]
  },
  {
   "cell_type": "code",
   "execution_count": 24,
   "metadata": {},
   "outputs": [
    {
     "data": {
      "text/plain": [
       "<matplotlib.collections.PathCollection at 0x7fbfa8aaafa0>"
      ]
     },
     "execution_count": 24,
     "metadata": {},
     "output_type": "execute_result"
    },
    {
     "data": {
      "image/png": "[encoded data removed]",
      "text/plain": [
       "<Figure size 432x288 with 1 Axes>"
      ]
     },
     "metadata": {
      "needs_background": "light"
     },
     "output_type": "display_data"
    }
   ],
   "source": [
    "target_list = np.unique(y)\n",
    "plt.scatter(x=clusterDF['ftr1'], y=clusterDF['ftr2'], edgecolor='k', c=y )"
   ]
  },
  {
   "cell_type": "code",
   "execution_count": 25,
   "metadata": {},
   "outputs": [
    {
     "data": {
      "image/png": "[encoded data removed]",
      "text/plain": [
       "<Figure size 432x288 with 1 Axes>"
      ]
     },
     "metadata": {
      "needs_background": "light"
     },
     "output_type": "display_data"
    }
   ],
   "source": [
    "# KMeans 객체를 이용하여 X 데이터를 K-Means 클러스터링 수행 \n",
    "kmeans = KMeans(n_clusters=3, init='k-means++', max_iter=200, random_state=0)\n",
    "cluster_labels = kmeans.fit_predict(X)\n",
    "clusterDF['kmeans_label']  = cluster_labels\n",
    "\n",
    "#cluster_centers_ 는 개별 클러스터의 중심 위치 좌표 시각화를 위해 추출\n",
    "centers = kmeans.cluster_centers_\n",
    "unique_labels = np.unique(cluster_labels)\n",
    "markers=['o', 's', '^', 'P','D','H','x']\n",
    "\n",
    "# 군집된 label 유형별로 iteration 하면서 marker 별로 scatter plot 수행. \n",
    "for label in unique_labels:\n",
    "    label_cluster = clusterDF[clusterDF['kmeans_label']==label]\n",
    "    center_x_y = centers[label]\n",
    "    plt.scatter(x=label_cluster['ftr1'], y=label_cluster['ftr2'], edgecolor='k', \n",
    "                marker=markers[label] )\n",
    "    \n",
    "    # 군집별 중심 위치 좌표 시각화 \n",
    "    plt.scatter(x=center_x_y[0], y=center_x_y[1], s=200, color='white',\n",
    "                alpha=0.9, edgecolor='k', marker=markers[label])\n",
    "    plt.scatter(x=center_x_y[0], y=center_x_y[1], s=70, color='k', edgecolor='k', \n",
    "                marker='$%d$' % label)\n",
    "\n",
    "plt.show()"
   ]
  },
  {
   "cell_type": "code",
   "execution_count": 26,
   "metadata": {},
   "outputs": [
    {
     "name": "stdout",
     "output_type": "stream",
     "text": [
      "target  kmeans_label\n",
      "0       0               67\n",
      "1       2               67\n",
      "2       1               66\n",
      "Name: kmeans_label, dtype: int64\n"
     ]
    }
   ],
   "source": [
    "print(clusterDF.groupby('target')['kmeans_label'].value_counts())"
   ]
  },
  {
   "cell_type": "code",
   "execution_count": null,
   "metadata": {},
   "outputs": [],
   "source": []
  }
 ],
 "metadata": {
  "kernelspec": {
   "display_name": "Python 3",
   "language": "python",
   "name": "python3"
  }
 },
 "nbformat": 4,
 "nbformat_minor": 4
}
